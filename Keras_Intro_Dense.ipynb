{
  "nbformat": 4,
  "nbformat_minor": 0,
  "metadata": {
    "colab": {
      "name": "Keras_Intro_Dense.ipynb",
      "provenance": [],
      "collapsed_sections": [],
      "include_colab_link": true
    },
    "kernelspec": {
      "name": "python3",
      "display_name": "Python 3"
    }
  },
  "cells": [
    {
      "cell_type": "markdown",
      "metadata": {
        "id": "view-in-github",
        "colab_type": "text"
      },
      "source": [
        "<a href=\"https://colab.research.google.com/github/gencemrah/DsPublic/blob/master/Keras_Intro_Dense.ipynb\" target=\"_parent\"><img src=\"https://colab.research.google.com/assets/colab-badge.svg\" alt=\"Open In Colab\"/></a>"
      ]
    },
    {
      "cell_type": "markdown",
      "metadata": {
        "id": "HCG_ky0Rx9Gu"
      },
      "source": [
        "#Developing a Simple Neural architecture\n",
        "\n",
        "1.   Training & Inference\n",
        "2.   A simple Convolutional architecture\n",
        "3.   A review of Assignment #1\n",
        "\n",
        "\n"
      ]
    },
    {
      "cell_type": "code",
      "metadata": {
        "id": "rOh1_RyNiUH-"
      },
      "source": [
        "import numpy as np;\n",
        "import keras;\n",
        "from keras.layers import Dense,Input,Dropout,BatchNormalization,Conv2D,BatchNormalization,MaxPooling2D,Flatten\n",
        "from keras.models import Model, Sequential\n",
        "from keras.optimizers import Adam,RMSprop,SGD\n",
        "import matplotlib.pyplot as plt\n",
        "batch_size =128;\n",
        "num_classes = 10;\n",
        "epoch =10;\n",
        "\n"
      ],
      "execution_count": null,
      "outputs": []
    },
    {
      "cell_type": "code",
      "metadata": {
        "id": "RCY7kos8j8-J"
      },
      "source": [
        "(x_train,y_train),(x_test,y_test) =keras.datasets.mnist.load_data()\n",
        "y_train  = keras.utils.to_categorical(y_train)\n",
        "y_test  = keras.utils.to_categorical(y_test)\n",
        "\n",
        "x_train = x_train.reshape(x_train.shape[0],x_train.shape[1],x_train.shape[2],1)\n",
        "x_test = x_test.reshape(x_test.shape[0],x_test.shape[1],x_test.shape[2],1)\n",
        " # Normalize between 0 an 1 \n",
        "x_train = x_train/255\n",
        "x_test = x_test/255"
      ],
      "execution_count": null,
      "outputs": []
    },
    {
      "cell_type": "code",
      "metadata": {
        "id": "ofAwtT_p5cnF"
      },
      "source": [
        "model =Sequential();\n",
        "model.add(BatchNormalization(input_shape= (28,28,1)))\n",
        "model.add(Conv2D(18,kernel_size=(3,3),activation='relu'))\n",
        "model.add(Conv2D(18,kernel_size=(3,3),activation='relu'))\n",
        "model.add(MaxPooling2D(2,2))\n",
        "model.add(Conv2D(18,kernel_size=(3,3),activation='relu'))\n",
        "model.add(Conv2D(18,kernel_size=(3,3),activation='relu'))\n",
        "model.add(MaxPooling2D(2,2))\n",
        "model.add(Flatten())\n",
        "model.add(Dense(64,activation='relu'))\n",
        "model.add(Dense(num_classes,activation='softmax'))\n",
        "model.summary()"
      ],
      "execution_count": null,
      "outputs": []
    },
    {
      "cell_type": "code",
      "metadata": {
        "id": "uJFoe3fwWrOu"
      },
      "source": [
        "model.compile(loss='categorical_crossentropy',optimizer=keras.optimizers.Adam(learning_rate=0.01),metrics = ['accuracy'])\n",
        "history = model.fit(x_train,y_train,batch_size=64,epochs=epoch,validation_data=(x_test,y_test))"
      ],
      "execution_count": null,
      "outputs": []
    },
    {
      "cell_type": "markdown",
      "metadata": {
        "id": "VyRAjwa4FN3R"
      },
      "source": [
        "#HW related"
      ]
    },
    {
      "cell_type": "code",
      "metadata": {
        "id": "h5QLcOTYWr3M",
        "colab": {
          "base_uri": "https://localhost:8080/"
        },
        "outputId": "fea274ff-66a4-42f1-c485-495b41dff660"
      },
      "source": [
        "hw_train_data = np.random.normal(0,1,(1000,6))\n",
        "noise_to_be_added = np.random.normal(0,0.0001,(1000,6))\n",
        "#noised_data = hw_train_data + noise_to_be_added\n",
        "def arr(x):\n",
        "    return x[0]*x[1]*x[2] + x[1]*x[3] + x[4]*x[4]+ x[5]*x[3]*x[2];"
      ],
      "execution_count": null,
      "outputs": [
        {
          "output_type": "execute_result",
          "data": {
            "text/plain": [
              "array([ 0.29453794, -0.89972486,  0.01558235, -0.19942596, -0.74891656,\n",
              "       -0.77506556])"
            ]
          },
          "metadata": {
            "tags": []
          },
          "execution_count": 43
        }
      ]
    },
    {
      "cell_type": "code",
      "metadata": {
        "id": "X9H8z1tbWro0"
      },
      "source": [
        ""
      ],
      "execution_count": null,
      "outputs": []
    },
    {
      "cell_type": "code",
      "metadata": {
        "id": "exijIkXIWsQM"
      },
      "source": [
        ""
      ],
      "execution_count": null,
      "outputs": []
    },
    {
      "cell_type": "code",
      "metadata": {
        "id": "08SxiiwfTlnT"
      },
      "source": [
        "y1 = arr(hw_train_data[0])+ noise_to_be_added[0]"
      ],
      "execution_count": null,
      "outputs": []
    },
    {
      "cell_type": "markdown",
      "metadata": {
        "id": "K3ac5u9yvZ5b"
      },
      "source": [
        "#Inference"
      ]
    },
    {
      "cell_type": "code",
      "metadata": {
        "id": "JeKriSi4xvq4",
        "colab": {
          "base_uri": "https://localhost:8080/"
        },
        "outputId": "cff967a4-54cf-4eda-c62b-5d9b5992b7c3"
      },
      "source": [
        "y1 "
      ],
      "execution_count": null,
      "outputs": [
        {
          "output_type": "execute_result",
          "data": {
            "text/plain": [
              "-1.5798965183100315"
            ]
          },
          "metadata": {
            "tags": []
          },
          "execution_count": 53
        }
      ]
    },
    {
      "cell_type": "code",
      "metadata": {
        "id": "B7HdLAseaGF6"
      },
      "source": [
        "model =Sequential();\n",
        "model.add(Dense(6,input_shape= (6,)))\n",
        "model.add(Dense(6,activation='relu'))\n",
        "model.add(Dense(6,activation='relu'))\n",
        "model.add(Dense(6))\n",
        "model.compile()"
      ],
      "execution_count": null,
      "outputs": []
    },
    {
      "cell_type": "code",
      "metadata": {
        "colab": {
          "base_uri": "https://localhost:8080/",
          "height": 283
        },
        "id": "ekr_c_45v3GN",
        "outputId": "256daf7c-6d1d-4ab5-908a-e990f3045664"
      },
      "source": [
        "model.compile(loss='MSE',optimizer=keras.optimizers.Adam(learning_rate=0.01),metrics = ['accuracy'])\n",
        "model.fit(hw_train_data,)"
      ],
      "execution_count": null,
      "outputs": [
        {
          "output_type": "execute_result",
          "data": {
            "text/plain": [
              "<matplotlib.image.AxesImage at 0x7fe0d82399d0>"
            ]
          },
          "metadata": {
            "tags": []
          },
          "execution_count": 18
        },
        {
          "output_type": "display_data",
          "data": {
            "image/png": "[encoded data removed]",
            "text/plain": [
              "<Figure size 432x288 with 1 Axes>"
            ]
          },
          "metadata": {
            "tags": [],
            "needs_background": "light"
          }
        }
      ]
    },
    {
      "cell_type": "code",
      "metadata": {
        "id": "TvO3zVB8aGbK",
        "colab": {
          "base_uri": "https://localhost:8080/",
          "height": 295
        },
        "outputId": "bb8d9cde-7cde-42cb-8ced-fff47405c2aa"
      },
      "source": [
        "\n",
        "# summarize history for loss\n",
        "plt.plot(history.history['loss'])\n",
        "plt.plot(history.history['val_loss'])\n",
        "plt.title('model loss')\n",
        "plt.ylabel('loss')\n",
        "plt.xlabel('epoch')\n",
        "plt.legend(['train', 'test'], loc='upper left')\n",
        "plt.show()"
      ],
      "execution_count": null,
      "outputs": [
        {
          "output_type": "display_data",
          "data": {
            "image/png": "[encoded data removed]",
            "text/plain": [
              "<Figure size 432x288 with 1 Axes>"
            ]
          },
          "metadata": {
            "tags": [],
            "needs_background": "light"
          }
        }
      ]
    },
    {
      "cell_type": "code",
      "metadata": {
        "id": "jO0e4veLaGtr"
      },
      "source": [
        "def factorial(x):\n",
        "    if x  == 0:\n",
        "       return 1 ;\n",
        "    return x* factorial(x -1)"
      ],
      "execution_count": null,
      "outputs": []
    },
    {
      "cell_type": "code",
      "metadata": {
        "id": "YVmGmS7ehg-l",
        "colab": {
          "base_uri": "https://localhost:8080/",
          "height": 34
        },
        "outputId": "30a9dfc1-72d5-49f2-b6e6-84fd1aac0dd2"
      },
      "source": [
        "keras.models.lo"
      ],
      "execution_count": null,
      "outputs": [
        {
          "output_type": "execute_result",
          "data": {
            "text/plain": [
              "6"
            ]
          },
          "metadata": {
            "tags": []
          },
          "execution_count": 35
        }
      ]
    },
    {
      "cell_type": "code",
      "metadata": {
        "id": "P4RL2rvohmCj"
      },
      "source": [
        ""
      ],
      "execution_count": null,
      "outputs": []
    }
  ]
}