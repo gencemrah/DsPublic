{
  "nbformat": 4,
  "nbformat_minor": 0,
  "metadata": {
    "colab": {
      "name": "Spring 2021 DL intro.ipynb",
      "provenance": [],
      "include_colab_link": true
    },
    "kernelspec": {
      "name": "python3",
      "display_name": "Python 3"
    },
    "language_info": {
      "name": "python"
    }
  },
  "cells": [
    {
      "cell_type": "markdown",
      "metadata": {
        "id": "view-in-github",
        "colab_type": "text"
      },
      "source": [
        "<a href=\"https://colab.research.google.com/github/gencemrah/DsPublic/blob/master/Spring_2021_DL_intro.ipynb\" target=\"_parent\"><img src=\"https://colab.research.google.com/assets/colab-badge.svg\" alt=\"Open In Colab\"/></a>"
      ]
    },
    {
      "cell_type": "markdown",
      "metadata": {
        "id": "4ZcLiybTJxfC"
      },
      "source": [
        "# A Basic introduction & tutorial for tensorflow\n",
        "\n",
        "\n",
        "1.   Developing a Simple Neural architecture\t\n",
        "2.   Training & Inference\n",
        "3.   A simple Convolutional architecture\n",
        "4.   A review of Assignment #1"
      ]
    },
    {
      "cell_type": "code",
      "metadata": {
        "id": "RHO0O53CfFwb"
      },
      "source": [
        "from google.colab import drive\n",
        "drive.mount('/content/drive')"
      ],
      "execution_count": null,
      "outputs": []
    },
    {
      "cell_type": "code",
      "metadata": {
        "id": "1xUdzgD3KYlS"
      },
      "source": [
        "import tensorflow as tf\n",
        "import tensorflow.keras as keras\n",
        "\n",
        "from tensorflow.keras.layers import Dense, Flatten, Conv2D,MaxPooling2D\n",
        "from tensorflow.keras import Model,Sequential\n",
        "import numpy as np\n",
        "import matplotlib.pyplot as plt\n"
      ],
      "execution_count": null,
      "outputs": []
    },
    {
      "cell_type": "markdown",
      "metadata": {
        "id": "xUJ1CCTaaBxI"
      },
      "source": [
        "# Let's load MNIST data from the cloud"
      ]
    },
    {
      "cell_type": "code",
      "metadata": {
        "id": "iJYqcyM7Z_tn"
      },
      "source": [
        "(x_train,y_train),(x_test,y_test) =keras.datasets.mnist.load_data()"
      ],
      "execution_count": null,
      "outputs": []
    },
    {
      "cell_type": "code",
      "metadata": {
        "colab": {
          "base_uri": "https://localhost:8080/"
        },
        "id": "uOkQ8tRCaMaR",
        "outputId": "af9eb7dd-f469-427d-9963-f3e817dda657"
      },
      "source": [
        "x_train_reshaped = np.reshape(x_train,(x_train.shape[0],x_train.shape[1]*x_train.shape[2]))/255    #Tekrar\n",
        "x_test_reshaped = np.reshape(x_test,(x_test.shape[0],x_test.shape[1]*x_test.shape[2]))/255    #Tekrar\n",
        "print(x_test.shape)"
      ],
      "execution_count": null,
      "outputs": [
        {
          "output_type": "stream",
          "text": [
            "(10000, 28, 28)\n"
          ],
          "name": "stdout"
        }
      ]
    },
    {
      "cell_type": "code",
      "metadata": {
        "id": "WEEXn5xsgTjM"
      },
      "source": [
        "model =Sequential();\n",
        "model.add(Dense(144,activation =\"relu\",input_shape =(784,)))\n",
        "model.add(Dense(72,activation =\"relu\"))\n",
        "model.add(Dense(36,activation =\"relu\"))\n",
        "model.add(Dense(10,activation=\"softmax\"))"
      ],
      "execution_count": null,
      "outputs": []
    },
    {
      "cell_type": "code",
      "metadata": {
        "id": "2AiHtUi5iPXz"
      },
      "source": [
        "model.compile(loss=\"categorical_crossentropy\",optimizer=keras.optimizers.SGD(learning_rate=0.001)) #Rmsprop, # Adam vb, "
      ],
      "execution_count": null,
      "outputs": []
    },
    {
      "cell_type": "markdown",
      "metadata": {
        "id": "MFf2fs3mqLdx"
      },
      "source": [
        "#Compilation = Translation to a low level language"
      ]
    },
    {
      "cell_type": "markdown",
      "metadata": {
        "id": "8G-Ic9gvinNE"
      },
      "source": [
        "f(x) =Ax +b "
      ]
    },
    {
      "cell_type": "markdown",
      "metadata": {
        "id": "MeHG8JvjkBkT"
      },
      "source": [
        ""
      ]
    },
    {
      "cell_type": "code",
      "metadata": {
        "colab": {
          "base_uri": "https://localhost:8080/"
        },
        "id": "Wk3OEhwfguje",
        "outputId": "c13caf64-ce61-4d31-aeb2-6219f56709aa"
      },
      "source": [
        "y_train_encoded = keras.utils.to_categorical(y_train)\n",
        "y_test_encoded = keras.utils.to_categorical(y_test)\n",
        "print(y_train[0])\n",
        "print(y_train_encoded[0])"
      ],
      "execution_count": null,
      "outputs": [
        {
          "output_type": "stream",
          "text": [
            "5\n",
            "[0. 0. 0. 0. 0. 1. 0. 0. 0. 0.]\n"
          ],
          "name": "stdout"
        }
      ]
    },
    {
      "cell_type": "code",
      "metadata": {
        "colab": {
          "base_uri": "https://localhost:8080/"
        },
        "id": "xrjSVkPpmIkg",
        "outputId": "eee64959-bd93-42f4-9890-a78b93986b4e"
      },
      "source": [
        "model.fit(x_train_reshaped,y_train_encoded,batch_size=64,epochs=5,validation_data=(x_test_reshaped,y_test_encoded))"
      ],
      "execution_count": null,
      "outputs": [
        {
          "output_type": "stream",
          "text": [
            "Epoch 1/5\n",
            "938/938 [==============================] - 2s 2ms/step - loss: 0.0315 - val_loss: 0.0700\n",
            "Epoch 2/5\n",
            "938/938 [==============================] - 2s 2ms/step - loss: 0.0293 - val_loss: 0.0686\n",
            "Epoch 3/5\n",
            "938/938 [==============================] - 2s 2ms/step - loss: 0.0269 - val_loss: 0.0679\n",
            "Epoch 4/5\n",
            "938/938 [==============================] - 2s 2ms/step - loss: 0.0270 - val_loss: 0.0672\n",
            "Epoch 5/5\n",
            "938/938 [==============================] - 2s 2ms/step - loss: 0.0265 - val_loss: 0.0669\n"
          ],
          "name": "stdout"
        },
        {
          "output_type": "execute_result",
          "data": {
            "text/plain": [
              "<tensorflow.python.keras.callbacks.History at 0x7f415397eb90>"
            ]
          },
          "metadata": {
            "tags": []
          },
          "execution_count": 24
        }
      ]
    },
    {
      "cell_type": "code",
      "metadata": {
        "id": "ST4Pj9HztxrH"
      },
      "source": [
        ""
      ],
      "execution_count": null,
      "outputs": []
    }
  ]
}